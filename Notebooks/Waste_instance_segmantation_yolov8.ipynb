{
 "cells": [
  {
   "cell_type": "code",
   "execution_count": 1,
   "id": "34827ec0-e592-416f-a60f-cb115990a578",
   "metadata": {},
   "outputs": [
    {
     "name": "stdout",
     "output_type": "stream",
     "text": [
      "/Users/tejasgadi/Local_Disk_D/Instance_Segmentation\n"
     ]
    }
   ],
   "source": [
    "import os\n",
    "cwd = os.getcwd()\n",
    "print(cwd)"
   ]
  },
  {
   "cell_type": "code",
   "execution_count": 2,
   "id": "78cf4201-f95b-451c-a478-65bd881e88c0",
   "metadata": {},
   "outputs": [
    {
     "name": "stdout",
     "output_type": "stream",
     "text": [
      "Downloading https://github.com/ultralytics/assets/releases/download/v8.1.0/yolov8s-seg.pt to 'yolov8s-seg.pt'...\n",
      "⚠️ Download failure, retrying 1/3 https://github.com/ultralytics/assets/releases/download/v8.1.0/yolov8s-seg.pt...\n"
     ]
    },
    {
     "name": "stderr",
     "output_type": "stream",
     "text": [
      "######################################################################## 100.0%\n"
     ]
    },
    {
     "name": "stdout",
     "output_type": "stream",
     "text": [
      "Downloading https://github.com/ultralytics/assets/releases/download/v8.1.0/yolov8s.pt to 'yolov8s.pt'...\n",
      "⚠️ Download failure, retrying 1/3 https://github.com/ultralytics/assets/releases/download/v8.1.0/yolov8s.pt...\n"
     ]
    },
    {
     "name": "stderr",
     "output_type": "stream",
     "text": [
      "######################################################################## 100.0%                                                                10.9%\n"
     ]
    },
    {
     "name": "stdout",
     "output_type": "stream",
     "text": [
      "Transferred 355/417 items from pretrained weights\n"
     ]
    }
   ],
   "source": [
    "from ultralytics import YOLO# Load a model\n",
    "model = YOLO('yolov8s-seg.yaml')  # build a new model from YAML\n",
    "model = YOLO('yolov8s-seg.pt') # load a pretrained model (recommended for training)\n",
    "model = YOLO('yolov8s-seg.yaml').load('yolov8s.pt')  # build from YAML and transfer weights\n"
   ]
  },
  {
   "cell_type": "code",
   "execution_count": null,
   "id": "19348e6f-c25f-457f-a45c-9223c96a3fac",
   "metadata": {},
   "outputs": [
    {
     "name": "stderr",
     "output_type": "stream",
     "text": [
      "New https://pypi.org/project/ultralytics/8.1.14 available 😃 Update with 'pip install -U ultralytics'\n",
      "Ultralytics YOLOv8.0.196 🚀 Python-3.9.13 torch-2.2.0 CPU (Apple M2)\n",
      "\u001b[34m\u001b[1mengine/trainer: \u001b[0mtask=segment, mode=train, model=yolov8s-seg.yaml, data=data.yaml, epochs=2, patience=50, batch=16, imgsz=640, save=True, save_period=-1, cache=False, device=None, workers=8, project=None, name=None, exist_ok=False, pretrained=True, optimizer=auto, verbose=True, seed=0, deterministic=True, single_cls=False, rect=False, cos_lr=False, close_mosaic=10, resume=False, amp=True, fraction=1.0, profile=False, freeze=None, overlap_mask=True, mask_ratio=4, dropout=0.0, val=True, split=val, save_json=False, save_hybrid=False, conf=None, iou=0.7, max_det=300, half=False, dnn=False, plots=True, source=None, show=False, save_txt=False, save_conf=False, save_crop=False, show_labels=True, show_conf=True, vid_stride=1, stream_buffer=False, line_width=None, visualize=False, augment=False, agnostic_nms=False, classes=None, retina_masks=False, boxes=True, format=torchscript, keras=False, optimize=False, int8=False, dynamic=False, simplify=False, opset=None, workspace=4, nms=False, lr0=0.01, lrf=0.01, momentum=0.937, weight_decay=0.0005, warmup_epochs=3.0, warmup_momentum=0.8, warmup_bias_lr=0.1, box=7.5, cls=0.5, dfl=1.5, pose=12.0, kobj=1.0, label_smoothing=0.0, nbs=64, hsv_h=0.015, hsv_s=0.7, hsv_v=0.4, degrees=0.0, translate=0.1, scale=0.5, shear=0.0, perspective=0.0, flipud=0.0, fliplr=0.5, mosaic=1.0, mixup=0.0, copy_paste=0.0, cfg=None, tracker=botsort.yaml, save_dir=runs/segment/train24\n",
      "\n",
      "                   from  n    params  module                                       arguments                     \n",
      "  0                  -1  1       928  ultralytics.nn.modules.conv.Conv             [3, 32, 3, 2]                 \n",
      "  1                  -1  1     18560  ultralytics.nn.modules.conv.Conv             [32, 64, 3, 2]                \n",
      "  2                  -1  1     29056  ultralytics.nn.modules.block.C2f             [64, 64, 1, True]             \n",
      "  3                  -1  1     73984  ultralytics.nn.modules.conv.Conv             [64, 128, 3, 2]               \n",
      "  4                  -1  2    197632  ultralytics.nn.modules.block.C2f             [128, 128, 2, True]           \n",
      "  5                  -1  1    295424  ultralytics.nn.modules.conv.Conv             [128, 256, 3, 2]              \n",
      "  6                  -1  2    788480  ultralytics.nn.modules.block.C2f             [256, 256, 2, True]           \n",
      "  7                  -1  1   1180672  ultralytics.nn.modules.conv.Conv             [256, 512, 3, 2]              \n",
      "  8                  -1  1   1838080  ultralytics.nn.modules.block.C2f             [512, 512, 1, True]           \n",
      "  9                  -1  1    656896  ultralytics.nn.modules.block.SPPF            [512, 512, 5]                 \n",
      " 10                  -1  1         0  torch.nn.modules.upsampling.Upsample         [None, 2, 'nearest']          \n",
      " 11             [-1, 6]  1         0  ultralytics.nn.modules.conv.Concat           [1]                           \n",
      " 12                  -1  1    591360  ultralytics.nn.modules.block.C2f             [768, 256, 1]                 \n",
      " 13                  -1  1         0  torch.nn.modules.upsampling.Upsample         [None, 2, 'nearest']          \n",
      " 14             [-1, 4]  1         0  ultralytics.nn.modules.conv.Concat           [1]                           \n",
      " 15                  -1  1    148224  ultralytics.nn.modules.block.C2f             [384, 128, 1]                 \n",
      " 16                  -1  1    147712  ultralytics.nn.modules.conv.Conv             [128, 128, 3, 2]              \n",
      " 17            [-1, 12]  1         0  ultralytics.nn.modules.conv.Concat           [1]                           \n",
      " 18                  -1  1    493056  ultralytics.nn.modules.block.C2f             [384, 256, 1]                 \n",
      " 19                  -1  1    590336  ultralytics.nn.modules.conv.Conv             [256, 256, 3, 2]              \n",
      " 20             [-1, 9]  1         0  ultralytics.nn.modules.conv.Concat           [1]                           \n",
      " 21                  -1  1   1969152  ultralytics.nn.modules.block.C2f             [768, 512, 1]                 \n",
      " 22        [15, 18, 21]  1   2775188  ultralytics.nn.modules.head.Segment          [12, 32, 128, [128, 256, 512]]\n",
      "YOLOv8s-seg summary: 261 layers, 11794740 parameters, 11794724 gradients, 42.7 GFLOPs\n",
      "\n",
      "Transferred 417/417 items from pretrained weights\n",
      "Freezing layer 'model.22.dfl.conv.weight'\n",
      "\u001b[34m\u001b[1mtrain: \u001b[0mScanning /Users/tejasgadi/Local_Disk_D/Instance_Segmentation/datasets/waste-classification-dataset/train/labels.\u001b[0m\n",
      "\u001b[34m\u001b[1mtrain: \u001b[0mWARNING ⚠️ /Users/tejasgadi/Local_Disk_D/Instance_Segmentation/datasets/waste-classification-dataset/train/images/battery522_jpg.rf.12cca93ef37275dbeff9e3bd1f873956.jpg: 1 duplicate labels removed\n",
      "\u001b[34m\u001b[1mtrain: \u001b[0mWARNING ⚠️ /Users/tejasgadi/Local_Disk_D/Instance_Segmentation/datasets/waste-classification-dataset/train/images/battery522_jpg.rf.63494afe33193cd8440f02ef97ca9fee.jpg: 1 duplicate labels removed\n",
      "\u001b[34m\u001b[1mtrain: \u001b[0mWARNING ⚠️ /Users/tejasgadi/Local_Disk_D/Instance_Segmentation/datasets/waste-classification-dataset/train/images/battery602_jpg.rf.29a144b64af07b593824e81bc5908720.jpg: 1 duplicate labels removed\n",
      "\u001b[34m\u001b[1mtrain: \u001b[0mWARNING ⚠️ /Users/tejasgadi/Local_Disk_D/Instance_Segmentation/datasets/waste-classification-dataset/train/images/battery602_jpg.rf.f3bccc9510cf43a1a9a69f8861877ffa.jpg: 1 duplicate labels removed\n",
      "\u001b[34m\u001b[1mtrain: \u001b[0mWARNING ⚠️ /Users/tejasgadi/Local_Disk_D/Instance_Segmentation/datasets/waste-classification-dataset/train/images/battery776_jpg.rf.c4a1faa9323578edcd4d22ee3a0b9fc1.jpg: 1 duplicate labels removed\n",
      "\u001b[34m\u001b[1mtrain: \u001b[0mWARNING ⚠️ /Users/tejasgadi/Local_Disk_D/Instance_Segmentation/datasets/waste-classification-dataset/train/images/biological197_jpg.rf.acc366cd43b84a048ec0fb20c4e89c6f.jpg: 1 duplicate labels removed\n",
      "\u001b[34m\u001b[1mtrain: \u001b[0mWARNING ⚠️ /Users/tejasgadi/Local_Disk_D/Instance_Segmentation/datasets/waste-classification-dataset/train/images/biological232_jpg.rf.71c08cc62d79aab06f78d74323400c4a.jpg: 1 duplicate labels removed\n",
      "\u001b[34m\u001b[1mtrain: \u001b[0mWARNING ⚠️ /Users/tejasgadi/Local_Disk_D/Instance_Segmentation/datasets/waste-classification-dataset/train/images/biological232_jpg.rf.71f9777bcabc09f19a61ad5926276c9e.jpg: 1 duplicate labels removed\n",
      "\u001b[34m\u001b[1mtrain: \u001b[0mWARNING ⚠️ /Users/tejasgadi/Local_Disk_D/Instance_Segmentation/datasets/waste-classification-dataset/train/images/biological33_jpg.rf.3484590526c1a9902c9b5d1cabe1dde0.jpg: 1 duplicate labels removed\n",
      "\u001b[34m\u001b[1mtrain: \u001b[0mWARNING ⚠️ /Users/tejasgadi/Local_Disk_D/Instance_Segmentation/datasets/waste-classification-dataset/train/images/biological33_jpg.rf.5c967adf61ad31457a67bccf38d82b47.jpg: 1 duplicate labels removed\n",
      "\u001b[34m\u001b[1mtrain: \u001b[0mWARNING ⚠️ /Users/tejasgadi/Local_Disk_D/Instance_Segmentation/datasets/waste-classification-dataset/train/images/biological377_jpg.rf.8fa5a4b7d7d88441331fb194e00684ee.jpg: 1 duplicate labels removed\n",
      "\u001b[34m\u001b[1mtrain: \u001b[0mWARNING ⚠️ /Users/tejasgadi/Local_Disk_D/Instance_Segmentation/datasets/waste-classification-dataset/train/images/biological377_jpg.rf.dfe432b00b8f9ac0cecb17cf73645f29.jpg: 1 duplicate labels removed\n",
      "\u001b[34m\u001b[1mtrain: \u001b[0mWARNING ⚠️ /Users/tejasgadi/Local_Disk_D/Instance_Segmentation/datasets/waste-classification-dataset/train/images/biological402_jpg.rf.4eebc2d6fd0b7b4d6f8dda47d60255e6.jpg: 1 duplicate labels removed\n",
      "\u001b[34m\u001b[1mtrain: \u001b[0mWARNING ⚠️ /Users/tejasgadi/Local_Disk_D/Instance_Segmentation/datasets/waste-classification-dataset/train/images/biological402_jpg.rf.eff8d5b5569fd9db8918588a48af125c.jpg: 1 duplicate labels removed\n",
      "\u001b[34m\u001b[1mtrain: \u001b[0mWARNING ⚠️ /Users/tejasgadi/Local_Disk_D/Instance_Segmentation/datasets/waste-classification-dataset/train/images/biological476_jpg.rf.f82675e5f9c3393ee14832f2f0636b4c.jpg: 1 duplicate labels removed\n",
      "\u001b[34m\u001b[1mtrain: \u001b[0mWARNING ⚠️ /Users/tejasgadi/Local_Disk_D/Instance_Segmentation/datasets/waste-classification-dataset/train/images/biological495_jpg.rf.9651fc5d096960d4e72645bb63016ef5.jpg: 1 duplicate labels removed\n",
      "\u001b[34m\u001b[1mtrain: \u001b[0mWARNING ⚠️ /Users/tejasgadi/Local_Disk_D/Instance_Segmentation/datasets/waste-classification-dataset/train/images/biological495_jpg.rf.c05a98e02d6707fdf70eb12993ef4677.jpg: 1 duplicate labels removed\n",
      "\u001b[34m\u001b[1mtrain: \u001b[0mWARNING ⚠️ /Users/tejasgadi/Local_Disk_D/Instance_Segmentation/datasets/waste-classification-dataset/train/images/biological503_jpg.rf.5302e09a154869d3310cd4188f3a243d.jpg: 1 duplicate labels removed\n",
      "\u001b[34m\u001b[1mtrain: \u001b[0mWARNING ⚠️ /Users/tejasgadi/Local_Disk_D/Instance_Segmentation/datasets/waste-classification-dataset/train/images/biological523_jpg.rf.50818dc8fd196d34c974d27e895c9b41.jpg: 1 duplicate labels removed\n",
      "\u001b[34m\u001b[1mtrain: \u001b[0mWARNING ⚠️ /Users/tejasgadi/Local_Disk_D/Instance_Segmentation/datasets/waste-classification-dataset/train/images/biological523_jpg.rf.f754c042b433033d3dfaf13e721cca20.jpg: 1 duplicate labels removed\n",
      "\u001b[34m\u001b[1mtrain: \u001b[0mWARNING ⚠️ /Users/tejasgadi/Local_Disk_D/Instance_Segmentation/datasets/waste-classification-dataset/train/images/biological530_jpg.rf.1a4a66a85af679f7e81a1f0b6be46483.jpg: 1 duplicate labels removed\n",
      "\u001b[34m\u001b[1mtrain: \u001b[0mWARNING ⚠️ /Users/tejasgadi/Local_Disk_D/Instance_Segmentation/datasets/waste-classification-dataset/train/images/biological530_jpg.rf.dd4ab567ec01b7f4d987c3dfbb130ecc.jpg: 1 duplicate labels removed\n",
      "\u001b[34m\u001b[1mtrain: \u001b[0mWARNING ⚠️ /Users/tejasgadi/Local_Disk_D/Instance_Segmentation/datasets/waste-classification-dataset/train/images/biological540_jpg.rf.188af64b127454e1f8dc0b161902703e.jpg: 2 duplicate labels removed\n",
      "\u001b[34m\u001b[1mtrain: \u001b[0mWARNING ⚠️ /Users/tejasgadi/Local_Disk_D/Instance_Segmentation/datasets/waste-classification-dataset/train/images/biological540_jpg.rf.a5a9c813e0dee9152a967b6118b34423.jpg: 2 duplicate labels removed\n",
      "\u001b[34m\u001b[1mtrain: \u001b[0mWARNING ⚠️ /Users/tejasgadi/Local_Disk_D/Instance_Segmentation/datasets/waste-classification-dataset/train/images/biological608_jpg.rf.069f870b66f75e28b5233382aa99ee0c.jpg: 1 duplicate labels removed\n",
      "\u001b[34m\u001b[1mtrain: \u001b[0mWARNING ⚠️ /Users/tejasgadi/Local_Disk_D/Instance_Segmentation/datasets/waste-classification-dataset/train/images/biological612_jpg.rf.8b3da7689a8465ced7217eb52477e104.jpg: 1 duplicate labels removed\n",
      "\u001b[34m\u001b[1mtrain: \u001b[0mWARNING ⚠️ /Users/tejasgadi/Local_Disk_D/Instance_Segmentation/datasets/waste-classification-dataset/train/images/biological614_jpg.rf.043c91703d8dfda0a9425c81a6a2ccb8.jpg: 1 duplicate labels removed\n",
      "\u001b[34m\u001b[1mtrain: \u001b[0mWARNING ⚠️ /Users/tejasgadi/Local_Disk_D/Instance_Segmentation/datasets/waste-classification-dataset/train/images/biological614_jpg.rf.82850b5533f1312f4517b32f8036a80f.jpg: 1 duplicate labels removed\n",
      "\u001b[34m\u001b[1mtrain: \u001b[0mWARNING ⚠️ /Users/tejasgadi/Local_Disk_D/Instance_Segmentation/datasets/waste-classification-dataset/train/images/biological616_jpg.rf.081e7aa716bd80a38e7bb581f054c90e.jpg: 1 duplicate labels removed\n",
      "\u001b[34m\u001b[1mtrain: \u001b[0mWARNING ⚠️ /Users/tejasgadi/Local_Disk_D/Instance_Segmentation/datasets/waste-classification-dataset/train/images/biological616_jpg.rf.b8e090b53708be09e87e2e19c2b81bd1.jpg: 1 duplicate labels removed\n",
      "\u001b[34m\u001b[1mtrain: \u001b[0mWARNING ⚠️ /Users/tejasgadi/Local_Disk_D/Instance_Segmentation/datasets/waste-classification-dataset/train/images/biological656_jpg.rf.38f7783f5d29fe7854ec8e0860283b40.jpg: 1 duplicate labels removed\n",
      "\u001b[34m\u001b[1mtrain: \u001b[0mWARNING ⚠️ /Users/tejasgadi/Local_Disk_D/Instance_Segmentation/datasets/waste-classification-dataset/train/images/biological663_jpg.rf.2d2fb67e690f8d627f98c083d83a1082.jpg: 1 duplicate labels removed\n",
      "\u001b[34m\u001b[1mtrain: \u001b[0mWARNING ⚠️ /Users/tejasgadi/Local_Disk_D/Instance_Segmentation/datasets/waste-classification-dataset/train/images/biological663_jpg.rf.b3ac3786dc9ca3b113e04effcd4e3520.jpg: 1 duplicate labels removed\n",
      "\u001b[34m\u001b[1mtrain: \u001b[0mWARNING ⚠️ /Users/tejasgadi/Local_Disk_D/Instance_Segmentation/datasets/waste-classification-dataset/train/images/biological688_jpg.rf.0c9f0a4c02f3599cbd1aef6223023ae9.jpg: 1 duplicate labels removed\n",
      "\u001b[34m\u001b[1mtrain: \u001b[0mWARNING ⚠️ /Users/tejasgadi/Local_Disk_D/Instance_Segmentation/datasets/waste-classification-dataset/train/images/biological688_jpg.rf.353dbe8e60da76a73c3d91ab0f546fa9.jpg: 1 duplicate labels removed\n",
      "\u001b[34m\u001b[1mtrain: \u001b[0mWARNING ⚠️ /Users/tejasgadi/Local_Disk_D/Instance_Segmentation/datasets/waste-classification-dataset/train/images/biological719_jpg.rf.38447b40cf01e422fc64ad4f22e1d99a.jpg: 1 duplicate labels removed\n",
      "\u001b[34m\u001b[1mtrain: \u001b[0mWARNING ⚠️ /Users/tejasgadi/Local_Disk_D/Instance_Segmentation/datasets/waste-classification-dataset/train/images/biological719_jpg.rf.5ebdf5c1e971e3e465bd80cfa5cb3ada.jpg: 1 duplicate labels removed\n",
      "\u001b[34m\u001b[1mtrain: \u001b[0mWARNING ⚠️ /Users/tejasgadi/Local_Disk_D/Instance_Segmentation/datasets/waste-classification-dataset/train/images/biological737_jpg.rf.0ae56122710217286620251fe161d7e8.jpg: 1 duplicate labels removed\n",
      "\u001b[34m\u001b[1mtrain: \u001b[0mWARNING ⚠️ /Users/tejasgadi/Local_Disk_D/Instance_Segmentation/datasets/waste-classification-dataset/train/images/biological737_jpg.rf.fbbd452280a8f4bc1c080f939c219433.jpg: 1 duplicate labels removed\n",
      "\u001b[34m\u001b[1mtrain: \u001b[0mWARNING ⚠️ /Users/tejasgadi/Local_Disk_D/Instance_Segmentation/datasets/waste-classification-dataset/train/images/biological748_jpg.rf.9211230499c0ac76ba8393b5bd2196ad.jpg: 1 duplicate labels removed\n",
      "\u001b[34m\u001b[1mtrain: \u001b[0mWARNING ⚠️ /Users/tejasgadi/Local_Disk_D/Instance_Segmentation/datasets/waste-classification-dataset/train/images/biological773_jpg.rf.4bc9d9cd3ddf670126802b35569e121d.jpg: 1 duplicate labels removed\n",
      "\u001b[34m\u001b[1mtrain: \u001b[0mWARNING ⚠️ /Users/tejasgadi/Local_Disk_D/Instance_Segmentation/datasets/waste-classification-dataset/train/images/biological782_jpg.rf.2e588eabe00973be4597bae48256026a.jpg: 1 duplicate labels removed\n",
      "\u001b[34m\u001b[1mtrain: \u001b[0mWARNING ⚠️ /Users/tejasgadi/Local_Disk_D/Instance_Segmentation/datasets/waste-classification-dataset/train/images/biological782_jpg.rf.f7a0116db51596843bfd2a2930399e80.jpg: 1 duplicate labels removed\n",
      "\u001b[34m\u001b[1mtrain: \u001b[0mWARNING ⚠️ /Users/tejasgadi/Local_Disk_D/Instance_Segmentation/datasets/waste-classification-dataset/train/images/biological797_jpg.rf.bc2460650c94338fff7406b6a0191dd3.jpg: 1 duplicate labels removed\n",
      "\u001b[34m\u001b[1mtrain: \u001b[0mWARNING ⚠️ /Users/tejasgadi/Local_Disk_D/Instance_Segmentation/datasets/waste-classification-dataset/train/images/biological802_jpg.rf.95ddb6c462714039b32a0d956edcd30a.jpg: 2 duplicate labels removed\n",
      "\u001b[34m\u001b[1mtrain: \u001b[0mWARNING ⚠️ /Users/tejasgadi/Local_Disk_D/Instance_Segmentation/datasets/waste-classification-dataset/train/images/biological802_jpg.rf.d3a25ef1de6bf35d4f1983e7d84c32fe.jpg: 2 duplicate labels removed\n",
      "\u001b[34m\u001b[1mtrain: \u001b[0mWARNING ⚠️ /Users/tejasgadi/Local_Disk_D/Instance_Segmentation/datasets/waste-classification-dataset/train/images/biological839_jpg.rf.bfd249025dcaea9a80f89eb129934194.jpg: 1 duplicate labels removed\n",
      "\u001b[34m\u001b[1mtrain: \u001b[0mWARNING ⚠️ /Users/tejasgadi/Local_Disk_D/Instance_Segmentation/datasets/waste-classification-dataset/train/images/biological839_jpg.rf.db79b54d48205dd116e007970d7e70fe.jpg: 1 duplicate labels removed\n",
      "\u001b[34m\u001b[1mtrain: \u001b[0mWARNING ⚠️ /Users/tejasgadi/Local_Disk_D/Instance_Segmentation/datasets/waste-classification-dataset/train/images/biological912_jpg.rf.2f8f0795a6f637e46cea911909ca4231.jpg: 1 duplicate labels removed\n",
      "\u001b[34m\u001b[1mtrain: \u001b[0mWARNING ⚠️ /Users/tejasgadi/Local_Disk_D/Instance_Segmentation/datasets/waste-classification-dataset/train/images/biological931_jpg.rf.84dc505848dae792f72e9310037b7da1.jpg: 1 duplicate labels removed\n",
      "\u001b[34m\u001b[1mtrain: \u001b[0mWARNING ⚠️ /Users/tejasgadi/Local_Disk_D/Instance_Segmentation/datasets/waste-classification-dataset/train/images/biological931_jpg.rf.b942f8c729a1b10d6a3a76f9e0c2a2c5.jpg: 1 duplicate labels removed\n",
      "\u001b[34m\u001b[1mtrain: \u001b[0mWARNING ⚠️ /Users/tejasgadi/Local_Disk_D/Instance_Segmentation/datasets/waste-classification-dataset/train/images/biological937_jpg.rf.00af123603fe27714eca93dacc7396ab.jpg: 1 duplicate labels removed\n",
      "\u001b[34m\u001b[1mtrain: \u001b[0mWARNING ⚠️ /Users/tejasgadi/Local_Disk_D/Instance_Segmentation/datasets/waste-classification-dataset/train/images/biological941_jpg.rf.12351bf6a5a93043191359f5a289c8ce.jpg: 1 duplicate labels removed\n",
      "\u001b[34m\u001b[1mtrain: \u001b[0mWARNING ⚠️ /Users/tejasgadi/Local_Disk_D/Instance_Segmentation/datasets/waste-classification-dataset/train/images/biological941_jpg.rf.f441d367b60f108ed3c289dc4e2d1b76.jpg: 1 duplicate labels removed\n",
      "\u001b[34m\u001b[1mtrain: \u001b[0mWARNING ⚠️ /Users/tejasgadi/Local_Disk_D/Instance_Segmentation/datasets/waste-classification-dataset/train/images/biological942_jpg.rf.d4c327586b292ff53a804b6ef7c4bac3.jpg: 1 duplicate labels removed\n",
      "\u001b[34m\u001b[1mtrain: \u001b[0mWARNING ⚠️ /Users/tejasgadi/Local_Disk_D/Instance_Segmentation/datasets/waste-classification-dataset/train/images/biological956_jpg.rf.c20efbdb12ef2cbee72f859919087fbd.jpg: 1 duplicate labels removed\n",
      "\u001b[34m\u001b[1mtrain: \u001b[0mWARNING ⚠️ /Users/tejasgadi/Local_Disk_D/Instance_Segmentation/datasets/waste-classification-dataset/train/images/biological956_jpg.rf.ffa228b2c11a2e997ce66c821cced980.jpg: 1 duplicate labels removed\n",
      "\u001b[34m\u001b[1mtrain: \u001b[0mWARNING ⚠️ /Users/tejasgadi/Local_Disk_D/Instance_Segmentation/datasets/waste-classification-dataset/train/images/cardboard808_jpg.rf.f84df9cf7a4c1c73b11b9f57ee458265.jpg: 1 duplicate labels removed\n",
      "\u001b[34m\u001b[1mtrain: \u001b[0mWARNING ⚠️ /Users/tejasgadi/Local_Disk_D/Instance_Segmentation/datasets/waste-classification-dataset/train/images/cardboard808_jpg.rf.fc488b5056dc9f26a2710be6fa340cd6.jpg: 1 duplicate labels removed\n",
      "\u001b[34m\u001b[1mtrain: \u001b[0mWARNING ⚠️ /Users/tejasgadi/Local_Disk_D/Instance_Segmentation/datasets/waste-classification-dataset/train/images/shoes791_jpg.rf.8f0af5f7e1bcef9d61ed81a0d3c134e8.jpg: 1 duplicate labels removed\n",
      "\u001b[34m\u001b[1mval: \u001b[0mScanning /Users/tejasgadi/Local_Disk_D/Instance_Segmentation/datasets/waste-classification-dataset/valid/labels.ca\u001b[0m\n",
      "Plotting labels to runs/segment/train24/labels.jpg... \n",
      "\u001b[34m\u001b[1moptimizer:\u001b[0m 'optimizer=auto' found, ignoring 'lr0=0.01' and 'momentum=0.937' and determining best 'optimizer', 'lr0' and 'momentum' automatically... \n",
      "\u001b[34m\u001b[1moptimizer:\u001b[0m AdamW(lr=0.000625, momentum=0.9) with parameter groups 66 weight(decay=0.0), 77 weight(decay=0.0005), 76 bias(decay=0.0)\n",
      "Image sizes 640 train, 640 val\n",
      "Using 0 dataloader workers\n",
      "Logging results to \u001b[1mruns/segment/train24\u001b[0m\n",
      "Starting training for 2 epochs...\n",
      "\n",
      "      Epoch    GPU_mem   box_loss   seg_loss   cls_loss   dfl_loss  Instances       Size\n",
      "        1/2         0G     0.6781      2.974      2.167       1.14         76        640:  48%|████▊     | 356/741 [1:4"
     ]
    }
   ],
   "source": [
    "# Train the model\n",
    "results = model.train(data=\"data.yaml\", epochs=2, imgsz=640)"
   ]
  },
  {
   "cell_type": "code",
   "execution_count": 33,
   "id": "0ca44913-7c8c-45e2-b08c-5321cd3ec592",
   "metadata": {},
   "outputs": [
    {
     "name": "stdout",
     "output_type": "stream",
     "text": [
      "\u001b[34mTrain-YOLOv8-Instance-Segmentation-on-Custom-Data\u001b[m\u001b[m/\n",
      "Waste_instance_segmantation_yolov8.ipynb\n",
      "data.yaml\n",
      "\u001b[34mdatasets\u001b[m\u001b[m/\n",
      "requirements.txt\n",
      "\u001b[34mruns\u001b[m\u001b[m/\n",
      "\u001b[34mvenv\u001b[m\u001b[m/\n",
      "yolov8s-seg.pt\n",
      "yolov8s.pt\n"
     ]
    }
   ],
   "source": [
    "ls"
   ]
  },
  {
   "cell_type": "code",
   "execution_count": 37,
   "id": "5843d4d7-3c10-43c0-899e-13e4a1788874",
   "metadata": {},
   "outputs": [
    {
     "name": "stdout",
     "output_type": "stream",
     "text": [
      "README.dataset.txt   data.yaml            \u001b[34mtrain\u001b[m\u001b[m/\n",
      "README.roboflow.txt  \u001b[34mtest\u001b[m\u001b[m/                \u001b[34mvalid\u001b[m\u001b[m/\n"
     ]
    }
   ],
   "source": [
    "ls \"./datasets/waste-classification-dataset\""
   ]
  },
  {
   "cell_type": "code",
   "execution_count": null,
   "id": "a2432666-c387-42c8-96bb-c6516ef0e518",
   "metadata": {},
   "outputs": [],
   "source": []
  },
  {
   "cell_type": "code",
   "execution_count": null,
   "id": "5ca0f92b-97dc-4f40-8a0b-6052cbcb1b49",
   "metadata": {},
   "outputs": [],
   "source": []
  }
 ],
 "metadata": {
  "kernelspec": {
   "display_name": "Python 3 (ipykernel)",
   "language": "python",
   "name": "python3"
  },
  "language_info": {
   "codemirror_mode": {
    "name": "ipython",
    "version": 3
   },
   "file_extension": ".py",
   "mimetype": "text/x-python",
   "name": "python",
   "nbconvert_exporter": "python",
   "pygments_lexer": "ipython3",
   "version": "3.9.13"
  }
 },
 "nbformat": 4,
 "nbformat_minor": 5
}
